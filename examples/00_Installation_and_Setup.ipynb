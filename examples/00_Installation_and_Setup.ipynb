{
  "cells": [
    {
      "cell_type": "markdown",
      "metadata": {
        "id": "view-in-github",
        "colab_type": "text"
      },
      "source": [
        "<a href=\"https://colab.research.google.com/github/bioquaintum/pyneurorg/blob/main/examples/00_Installation_and_Setup.ipynb\" target=\"_parent\"><img src=\"https://colab.research.google.com/assets/colab-badge.svg\" alt=\"Open In Colab\"/></a>"
      ]
    },
    {
      "cell_type": "markdown",
      "metadata": {
        "id": "5aBSPEhifmbN"
      },
      "source": [
        "# Installation and Setup for pyneurorg\n",
        "\n",
        "**Objective:** This notebook guides you through the installation of the `pyneurorg` library and its dependencies. It also includes a simple test at the end to verify that `pyneurorg` and its core dependency, Brian2, are functioning correctly.\n",
        "\n",
        "**Prerequisites:**\n",
        "- Python 3.7+ (Brian2 typically supports recent Python 3 versions)\n",
        "- `pip` (Python package installer)"
      ],
      "id": "5aBSPEhifmbN"
    },
    {
      "cell_type": "markdown",
      "metadata": {
        "id": "dIyjDJnofmbP"
      },
      "source": [
        "## 1. Understanding `pyneurorg`\n",
        "\n",
        "`pyneurorg` is a Python module designed for simulating brain organoids, leveraging the power and flexibility of the Brian2 spiking neural network simulator. It provides a structured framework to model neurons and synapses within organoids, simulate their development and activity, and interact with them using simulated Microelectrode Arrays (MEAs) and calcium imaging techniques."
      ],
      "id": "dIyjDJnofmbP"
    },
    {
      "cell_type": "markdown",
      "metadata": {
        "id": "BkviqNsSfmbQ"
      },
      "source": [
        "## 2. Installation Options\n",
        "\n",
        "There are a couple of ways to install `pyneurorg`:"
      ],
      "id": "BkviqNsSfmbQ"
    },
    {
      "cell_type": "markdown",
      "metadata": {
        "id": "qhsAjGg9fmbQ"
      },
      "source": [
        "### Option 2.1: Installing from a local clone (Recommended for development or if you have the source code)\n",
        "\n",
        "If you have cloned the `pyneurorg` repository from GitHub or have the source code folder:\n",
        "\n",
        "1.  **Navigate to the `pyneurorg` root directory in your terminal:**\n",
        "    This is the directory that contains the `setup.py` file.\n",
        "    ```bash\n",
        "    cd path/to/your/pyneurorg\n",
        "    ```\n",
        "\n",
        "2.  **(Recommended) Create and activate a virtual environment:**\n",
        "    This keeps your project dependencies isolated.\n",
        "    ```bash\n",
        "    python -m venv venv_pyneurorg\n",
        "    # On macOS/Linux:\n",
        "    source venv_pyneurorg/bin/activate\n",
        "    # On Windows:\n",
        "    .\\venv_pyneurorg\\Scripts\\activate\n",
        "    ```\n",
        "\n",
        "3.  **Install `pyneurorg` and its dependencies:**\n",
        "    The `-e` flag installs the package in \"editable\" mode, meaning changes you make to the source code will be immediately effective without needing to reinstall.\n",
        "    ```bash\n",
        "    pip install -e .\n",
        "    ```\n",
        "    This command will read the `setup.py` and `requirements.txt` files to install `pyneurorg` and all necessary libraries like Brian2, NumPy, Matplotlib, etc."
      ],
      "id": "qhsAjGg9fmbQ"
    },
    {
      "cell_type": "markdown",
      "metadata": {
        "id": "AjCD54EZfmbQ"
      },
      "source": [
        "### Option 2.2: Installing from PyPI (If `pyneurorg` is published)\n",
        "\n",
        "If `pyneurorg` is (or will be) published on the Python Package Index (PyPI), you can install it directly using `pip`:\n",
        "\n",
        "```bash\n",
        "pip install pyneurorg\n",
        "```\n",
        "*(Note: This option is only valid once the package is actually available on PyPI.)*"
      ],
      "id": "AjCD54EZfmbQ"
    },
    {
      "cell_type": "code",
      "source": [
        "!pip3 install pyneurorg"
      ],
      "metadata": {
        "id": "TMjEE9eBfz0p",
        "colab": {
          "base_uri": "https://localhost:8080/"
        },
        "outputId": "6774b3fd-02f4-4244-a4c2-cad159f0ddf6"
      },
      "id": "TMjEE9eBfz0p",
      "execution_count": 3,
      "outputs": [
        {
          "output_type": "stream",
          "name": "stdout",
          "text": [
            "Requirement already satisfied: pyneurorg in /usr/local/lib/python3.11/dist-packages (0.1.0)\n",
            "Requirement already satisfied: brian2>=2.5 in /usr/local/lib/python3.11/dist-packages (from pyneurorg) (2.9.0)\n",
            "Requirement already satisfied: numpy>=1.20 in /usr/local/lib/python3.11/dist-packages (from pyneurorg) (2.0.2)\n",
            "Requirement already satisfied: matplotlib>=3.4 in /usr/local/lib/python3.11/dist-packages (from pyneurorg) (3.10.0)\n",
            "Requirement already satisfied: scipy>=1.7 in /usr/local/lib/python3.11/dist-packages (from pyneurorg) (1.15.3)\n",
            "Requirement already satisfied: networkx>=2.6 in /usr/local/lib/python3.11/dist-packages (from pyneurorg) (3.4.2)\n",
            "Requirement already satisfied: cython>=0.29.21 in /usr/local/lib/python3.11/dist-packages (from brian2>=2.5->pyneurorg) (3.0.12)\n",
            "Requirement already satisfied: sympy>=1.2 in /usr/local/lib/python3.11/dist-packages (from brian2>=2.5->pyneurorg) (1.13.1)\n",
            "Requirement already satisfied: pyparsing in /usr/local/lib/python3.11/dist-packages (from brian2>=2.5->pyneurorg) (3.2.3)\n",
            "Requirement already satisfied: jinja2>=2.7 in /usr/local/lib/python3.11/dist-packages (from brian2>=2.5->pyneurorg) (3.1.6)\n",
            "Requirement already satisfied: setuptools>=61 in /usr/local/lib/python3.11/dist-packages (from brian2>=2.5->pyneurorg) (75.2.0)\n",
            "Requirement already satisfied: packaging in /usr/local/lib/python3.11/dist-packages (from brian2>=2.5->pyneurorg) (24.2)\n",
            "Requirement already satisfied: contourpy>=1.0.1 in /usr/local/lib/python3.11/dist-packages (from matplotlib>=3.4->pyneurorg) (1.3.2)\n",
            "Requirement already satisfied: cycler>=0.10 in /usr/local/lib/python3.11/dist-packages (from matplotlib>=3.4->pyneurorg) (0.12.1)\n",
            "Requirement already satisfied: fonttools>=4.22.0 in /usr/local/lib/python3.11/dist-packages (from matplotlib>=3.4->pyneurorg) (4.58.0)\n",
            "Requirement already satisfied: kiwisolver>=1.3.1 in /usr/local/lib/python3.11/dist-packages (from matplotlib>=3.4->pyneurorg) (1.4.8)\n",
            "Requirement already satisfied: pillow>=8 in /usr/local/lib/python3.11/dist-packages (from matplotlib>=3.4->pyneurorg) (11.2.1)\n",
            "Requirement already satisfied: python-dateutil>=2.7 in /usr/local/lib/python3.11/dist-packages (from matplotlib>=3.4->pyneurorg) (2.9.0.post0)\n",
            "Requirement already satisfied: MarkupSafe>=2.0 in /usr/local/lib/python3.11/dist-packages (from jinja2>=2.7->brian2>=2.5->pyneurorg) (3.0.2)\n",
            "Requirement already satisfied: six>=1.5 in /usr/local/lib/python3.11/dist-packages (from python-dateutil>=2.7->matplotlib>=3.4->pyneurorg) (1.17.0)\n",
            "Requirement already satisfied: mpmath<1.4,>=1.1.0 in /usr/local/lib/python3.11/dist-packages (from sympy>=1.2->brian2>=2.5->pyneurorg) (1.3.0)\n"
          ]
        }
      ]
    },
    {
      "cell_type": "markdown",
      "metadata": {
        "id": "u4_cjyCgfmbR"
      },
      "source": [
        "## 3. Core Dependencies\n",
        "\n",
        "`pyneurorg` relies on several key libraries:\n",
        "\n",
        "- **Brian2:** The core spiking neural network simulator.\n",
        "- **NumPy:** For numerical operations and array manipulation.\n",
        "- **Matplotlib:** For plotting and visualization.\n",
        "- **SciPy:** (Often a dependency of Brian2 or used for advanced analysis) For scientific and technical computing.\n",
        "\n",
        "These should be automatically installed when you install `pyneurorg` using `pip` (as they should be listed in `requirements.txt` and/or `install_requires` in `setup.py`)."
      ],
      "id": "u4_cjyCgfmbR"
    },
    {
      "cell_type": "markdown",
      "metadata": {
        "id": "i9-6zxdNfmbR"
      },
      "source": [
        "## 4. Verifying Installation (Python Code)\n",
        "\n",
        "After installation, you can verify that `pyneurorg` and its main dependency, Brian2, can be imported and are functioning. The following cells will attempt to do this."
      ],
      "id": "i9-6zxdNfmbR"
    },
    {
      "cell_type": "markdown",
      "metadata": {
        "id": "WhE9vP5TfmbR"
      },
      "source": [
        "### 4.1. Import Key Libraries\n",
        "\n",
        "Let's try importing `brian2` and the main `pyneurorg` package. If these imports work without error, it's a good first sign."
      ],
      "id": "WhE9vP5TfmbR"
    },
    {
      "cell_type": "code",
      "execution_count": 4,
      "metadata": {
        "colab": {
          "base_uri": "https://localhost:8080/"
        },
        "id": "uTC2TGj1fmbS",
        "outputId": "9dcec41a-f9f9-4660-9eaa-88dc9830074a"
      },
      "outputs": [
        {
          "output_type": "stream",
          "name": "stdout",
          "text": [
            "Attempting to import Brian2...\n",
            "Brian2 imported successfully! Version: 2.9.0\n",
            "\n",
            "Attempting to import pyneurorg...\n",
            "pyneurorg.core.neuron_models imported successfully!\n"
          ]
        }
      ],
      "source": [
        "print(\"Attempting to import Brian2...\")\n",
        "try:\n",
        "    import brian2 as b2\n",
        "    print(f\"Brian2 imported successfully! Version: {b2.__version__}\")\n",
        "except ImportError as e:\n",
        "    print(f\"Error importing Brian2: {e}\")\n",
        "    print(\"Please ensure Brian2 is installed correctly. It should be a dependency of pyneurorg.\")\n",
        "\n",
        "print(\"\\nAttempting to import pyneurorg...\")\n",
        "try:\n",
        "    from pyneurorg.core import neuron_models\n",
        "    # You might also want to try importing a submodule to be more thorough\n",
        "    #from pyneurorg.core import neuron_models\n",
        "    print(f\"pyneurorg.core.neuron_models imported successfully!\")\n",
        "    # If pyneurorg has a __version__ attribute (good practice to add one in pyneurorg/__init__.py)\n",
        "    # if hasattr(pyneurorg, '__version__'):\n",
        "    #     print(f\"pyneurorg version: {pyneurorg.__version__}\")\n",
        "except ImportError as e:\n",
        "    print(f\"Error importing pyneurorg: {e}\")\n",
        "    print(\"Please ensure pyneurorg is installed correctly (e.g., `pip install -e .` from the root directory) and you are in the correct Python environment.\")"
      ],
      "id": "uTC2TGj1fmbS"
    },
    {
      "cell_type": "markdown",
      "metadata": {
        "id": "21CvxylifmbT"
      },
      "source": [
        "### 4.2. Quick Test: Creating a Simple Brian2 NeuronGroup via `pyneurorg`\n",
        "\n",
        "This test will use a predefined neuron model from `pyneurorg` to create a simple `NeuronGroup` using Brian2. This confirms that `pyneurorg`'s model definitions are compatible with Brian2 and that basic Brian2 operations are working.\n",
        "\n",
        "**Expected Outcome:**\n",
        "The code should run without errors and print information about the created `NeuronGroup` and a short simulation run."
      ],
      "id": "21CvxylifmbT"
    },
    {
      "cell_type": "code",
      "execution_count": 5,
      "metadata": {
        "colab": {
          "base_uri": "https://localhost:8080/"
        },
        "id": "zzhLCOzJfmbT",
        "outputId": "3acf260d-6edd-4c7c-8714-92c4461e0c86"
      },
      "outputs": [
        {
          "output_type": "stream",
          "name": "stdout",
          "text": [
            "\n",
            "Running a quick pyneurorg + Brian2 test...\n",
            "\n",
            "1. Fetching LIFNeuron model definition from pyneurorg.core.neuron_models...\n",
            "   LIFNeuron model definition fetched.\n",
            "\n",
            "2. Setting initial conditions and input current...\n",
            "   Initial conditions set. Tonic current should drive activity.\n",
            "\n",
            "3. Setting up a SpikeMonitor...\n",
            "   SpikeMonitor created.\n",
            "\n",
            "4. Creating a Brian2 Network and running simulation...\n",
            "Starting simulation at t=0. s for a duration of 50. ms\n",
            "50. ms (100%) simulated in < 1s\n",
            "   Simulation run completed.\n",
            "\n",
            "5. Checking results...\n",
            "   SUCCESS! 10 spikes were recorded from 5 neurons.\n",
            "   Spike times: <spikemonitor.t: array([16., 16., 16., 16., 16., 34., 34., 34., 34., 34.]) * msecond>\n",
            "\n",
            "Quick test finished successfully (simulation ran).\n"
          ]
        }
      ],
      "source": [
        "import numpy as np\n",
        "\n",
        "print(\"\\nRunning a quick pyneurorg + Brian2 test...\")\n",
        "try:\n",
        "    # Ensure Brian2 and pyneurorg's neuron_models were imported successfully in the previous cell\n",
        "    if 'b2' not in locals() or 'neuron_models' not in locals():\n",
        "        raise RuntimeError(\"Brian2 or pyneurorg.core.neuron_models not imported. Cannot run test.\")\n",
        "\n",
        "    # 1. Get a neuron model definition from pyneurorg\n",
        "    print(\"\\n1. Fetching LIFNeuron model definition from pyneurorg.core.neuron_models...\")\n",
        "    lif_model_def = neuron_models.LIFNeuron(\n",
        "        tau_m=10*b2.ms,\n",
        "        v_rest=-60*b2.mV,\n",
        "        v_reset=-70*b2.mV,\n",
        "        v_thresh=-50*b2.mV\n",
        "    )\n",
        "    print(\"   LIFNeuron model definition fetched.\")\n",
        "\n",
        "    # 2. Set initial conditions and an input current to make them spike\n",
        "    print(\"\\n2. Setting initial conditions and input current...\")\n",
        "    # The LIFNeuron model expects 'I_input' to be defined (e.g., by synapses)\n",
        "    # or we can directly set it if it were a parameter.\n",
        "    # For this test, let's use the 'I_tonic_val' from the namespace,\n",
        "    # or add a constant current directly if LIFNeuron model_params allowed I_tonic.\n",
        "    # Modifying lif_model_def to include a default I_tonic for testing:\n",
        "    lif_model_def_test = neuron_models.LIFNeuron(\n",
        "        tau_m=10*b2.ms, v_rest=-60*b2.mV, v_reset=-70*b2.mV,\n",
        "        v_thresh=-50*b2.mV, I_tonic=0.15*b2.nA # Add tonic current\n",
        "    )\n",
        "    # Create group with tonic current\n",
        "    N_test = 5\n",
        "    test_neurons_active = b2.NeuronGroup(\n",
        "        N_test,\n",
        "        model=lif_model_def_test['model'],\n",
        "        threshold=lif_model_def_test['threshold'],\n",
        "        reset=lif_model_def_test['reset'],\n",
        "        refractory=lif_model_def_test['refractory'],\n",
        "        method=lif_model_def_test['method'],\n",
        "        namespace=lif_model_def_test['namespace']\n",
        "    )\n",
        "    test_neurons_active.v = -70*b2.mV\n",
        "    print(\"   Initial conditions set. Tonic current should drive activity.\")\n",
        "\n",
        "    # 3. Setup a SpikeMonitor\n",
        "    print(\"\\n3. Setting up a SpikeMonitor...\")\n",
        "    spike_mon_test = b2.SpikeMonitor(test_neurons_active)\n",
        "    print(\"   SpikeMonitor created.\")\n",
        "\n",
        "    # 4. Create a Network and run for a short duration\n",
        "    print(\"\\n4. Creating a Brian2 Network and running simulation...\")\n",
        "    test_net = b2.Network(test_neurons_active, spike_mon_test)\n",
        "    # Set Brian2 preferences for this specific run if not globally set\n",
        "    b2.prefs.codegen.target = 'numpy' # For simple, non-compiled execution\n",
        "    test_net.run(50*b2.ms, report='text')\n",
        "    print(\"   Simulation run completed.\")\n",
        "\n",
        "    # 5. Check for spikes\n",
        "    print(\"\\n5. Checking results...\")\n",
        "    if len(spike_mon_test.i) > 0:\n",
        "        print(f\"   SUCCESS! {len(spike_mon_test.i)} spikes were recorded from {len(np.unique(spike_mon_test.i))} neurons.\")\n",
        "        print(f\"   Spike times: {spike_mon_test.t}\")\n",
        "    else:\n",
        "        print(\"   NOTE: No spikes were recorded. This might be okay if I_tonic was too low or parameters need adjustment for spiking.\")\n",
        "        print(\"   However, the fact that the simulation ran without Brian2 errors is a good sign.\")\n",
        "\n",
        "    print(\"\\nQuick test finished successfully (simulation ran).\")\n",
        "\n",
        "except Exception as e:\n",
        "    print(f\"\\nAN ERROR OCCURRED DURING THE QUICK TEST: {e}\")\n",
        "    import traceback\n",
        "    traceback.print_exc()"
      ],
      "id": "zzhLCOzJfmbT"
    },
    {
      "cell_type": "markdown",
      "metadata": {
        "id": "eQ3LmA_SfmbU"
      },
      "source": [
        "## 5. Next Steps\n",
        "\n",
        "If all the above steps, especially the quick test, completed without critical errors, your `pyneurorg` installation should be ready!\n",
        "\n",
        "You can now proceed to the next notebooks in the `examples/` directory to learn how to:\n",
        "- Create more complex organoids (`01_Creating_Your_First_Organoid.ipynb`).\n",
        "- Run simulations and record different types of data (`02_Running_a_Simple_Simulation_and_Recording_Spikes.ipynb`).\n",
        "- And much more!"
      ],
      "id": "eQ3LmA_SfmbU"
    }
  ],
  "metadata": {
    "kernelspec": {
      "display_name": "Python 3 (ipykernel)",
      "language": "python",
      "name": "python3"
    },
    "language_info": {
      "codemirror_mode": {
        "name": "ipython",
        "version": 3
      },
      "file_extension": ".py",
      "mimetype": "text/x-python",
      "name": "python",
      "nbconvert_exporter": "python",
      "pygments_lexer": "ipython3",
      "version": "3.9.7"
    },
    "colab": {
      "provenance": [],
      "include_colab_link": true
    }
  },
  "nbformat": 4,
  "nbformat_minor": 5
}
